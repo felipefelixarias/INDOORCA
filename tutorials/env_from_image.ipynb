{
 "cells": [
  {
   "cell_type": "code",
   "execution_count": null,
   "metadata": {},
   "outputs": [],
   "source": [
    "import logging\n",
    "import typing\n",
    "\n",
    "from indoorca.simulator.core import IndoorORCASim, IndoorOrcaSimConfig\n",
    "from indoorca.environment.core import Environment\n",
    "from indoorca.processing.core import MapProcessor"
   ]
  }
 ],
 "metadata": {
  "language_info": {
   "name": "python"
  },
  "orig_nbformat": 4
 },
 "nbformat": 4,
 "nbformat_minor": 2
}
