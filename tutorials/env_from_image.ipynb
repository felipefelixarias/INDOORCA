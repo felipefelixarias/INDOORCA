{
 "cells": [
  {
   "cell_type": "code",
   "execution_count": 39,
   "metadata": {},
   "outputs": [],
   "source": [
    "import logging\n",
    "import typing\n",
    "\n",
    "from os import getcwd, listdir\n",
    "from PIL import Image\n",
    "import numpy as np\n",
    "import matplotlib.pyplot as plt\n",
    "import cv2\n",
    "\n",
    "from indoorca.simulator.core import IndoorORCASim, IndoorOrcaSimConfig\n",
    "from indoorca.environment.core import Environment\n",
    "from indoorca.processing.core import MapProcessor"
   ]
  },
  {
   "cell_type": "code",
   "execution_count": 2,
   "metadata": {},
   "outputs": [],
   "source": [
    "%load_ext autoreload\n",
    "%autoreload 2"
   ]
  },
  {
   "cell_type": "code",
   "execution_count": 3,
   "metadata": {},
   "outputs": [],
   "source": [
    "sim = IndoorORCASim(IndoorOrcaSimConfig())\n",
    "pix_per_meter = 100"
   ]
  },
  {
   "cell_type": "code",
   "execution_count": 4,
   "metadata": {},
   "outputs": [],
   "source": [
    "\n",
    "#Get maps from data/maps\n",
    "maps = []\n",
    "map_path = getcwd() + '/../data/maps/'\n",
    "for map_name in listdir(map_path):\n",
    "    im = Image.open(map_path + map_name)\n",
    "    maps.append(np.asarray(im))"
   ]
  },
  {
   "cell_type": "code",
   "execution_count": 5,
   "metadata": {},
   "outputs": [],
   "source": [
    "test = maps[-1]"
   ]
  },
  {
   "cell_type": "code",
   "execution_count": 6,
   "metadata": {},
   "outputs": [
    {
     "data": {
      "text/plain": [
       "(1000, 1000)"
      ]
     },
     "execution_count": 6,
     "metadata": {},
     "output_type": "execute_result"
    }
   ],
   "source": [
    "test.shape"
   ]
  },
  {
   "cell_type": "code",
   "execution_count": 34,
   "metadata": {},
   "outputs": [],
   "source": [
    "env = Environment('test', test)"
   ]
  },
  {
   "cell_type": "code",
   "execution_count": 35,
   "metadata": {},
   "outputs": [],
   "source": [
    "_, reachable_trav_map = env.build_graph(env.map)\n",
    "# self._obstacles_polygons = self._get_obstacle_polygons(reachable_trav_map)\n",
    "# self.get_obstacles()\n",
    "# self._construct_obstacle_map()\n"
   ]
  },
  {
   "cell_type": "code",
   "execution_count": 36,
   "metadata": {},
   "outputs": [],
   "source": [
    "env._obstacles_polygons = env._get_obstacle_polygons(reachable_trav_map)"
   ]
  },
  {
   "cell_type": "code",
   "execution_count": 37,
   "metadata": {},
   "outputs": [],
   "source": [
    "env.get_obstacles()"
   ]
  },
  {
   "cell_type": "code",
   "execution_count": 50,
   "metadata": {},
   "outputs": [
    {
     "name": "stdout",
     "output_type": "stream",
     "text": [
      "(1, 12, 2)\n",
      "[[[  0 207]\n",
      "  [ 70 208]\n",
      "  [  5 210]\n",
      "  [  7 435]\n",
      "  [169 434]\n",
      "  [168 209]\n",
      "  [104 208]\n",
      "  [179 208]\n",
      "  [179 446]\n",
      "  [192 446]\n",
      "  [192   0]\n",
      "  [  0 207]]]\n",
      "(1, 9, 2)\n",
      "[[[416  74]\n",
      "  [424  50]\n",
      "  [482  49]\n",
      "  [482   1]\n",
      "  [339   1]\n",
      "  [339  50]\n",
      "  [389  50]\n",
      "  [391  70]\n",
      "  [416  74]]]\n",
      "(1, 6, 2)\n",
      "[[[497   0]\n",
      "  [489   1]\n",
      "  [491  38]\n",
      "  [567  36]\n",
      "  [567   0]\n",
      "  [497   0]]]\n",
      "(1, 5, 2)\n",
      "[[[337  39]\n",
      "  [337   1]\n",
      "  [246   2]\n",
      "  [247  40]\n",
      "  [337  39]]]\n",
      "(1, 5, 2)\n",
      "[[[238 101]\n",
      "  [238  31]\n",
      "  [194  31]\n",
      "  [194 101]\n",
      "  [238 101]]]\n",
      "(1, 6, 2)\n",
      "[[[387 194]\n",
      "  [396 179]\n",
      "  [394 107]\n",
      "  [306 109]\n",
      "  [306 192]\n",
      "  [387 194]]]\n",
      "(1, 5, 2)\n",
      "[[[292 321]\n",
      "  [293 139]\n",
      "  [197 137]\n",
      "  [195 321]\n",
      "  [292 321]]]\n",
      "(1, 5, 2)\n",
      "[[[579 335]\n",
      "  [579 170]\n",
      "  [524 169]\n",
      "  [523 335]\n",
      "  [579 335]]]\n",
      "(1, 11, 2)\n",
      "[[[349 342]\n",
      "  [367 340]\n",
      "  [377 319]\n",
      "  [377 240]\n",
      "  [364 222]\n",
      "  [339 218]\n",
      "  [324 222]\n",
      "  [315 240]\n",
      "  [315 321]\n",
      "  [330 338]\n",
      "  [349 342]]]\n",
      "(1, 5, 2)\n",
      "[[[235 373]\n",
      "  [238 332]\n",
      "  [195 328]\n",
      "  [194 373]\n",
      "  [235 373]]]\n",
      "(1, 17, 2)\n",
      "[[[580 380]\n",
      "  [571 395]\n",
      "  [576 368]\n",
      "  [529 366]\n",
      "  [531 395]\n",
      "  [504 394]\n",
      "  [503 421]\n",
      "  [478 413]\n",
      "  [471 461]\n",
      "  [502 460]\n",
      "  [502 490]\n",
      "  [528 492]\n",
      "  [521 520]\n",
      "  [569 525]\n",
      "  [567 494]\n",
      "  [578 492]\n",
      "  [580 380]]]\n",
      "(1, 5, 2)\n",
      "[[[209 419]\n",
      "  [222 401]\n",
      "  [207 387]\n",
      "  [195 405]\n",
      "  [209 419]]]\n",
      "(1, 48, 2)\n",
      "[[[451 748]\n",
      "  [444 747]\n",
      "  [444 675]\n",
      "  [373 668]\n",
      "  [363 676]\n",
      "  [363 714]\n",
      "  [358 680]\n",
      "  [268 680]\n",
      "  [267 714]\n",
      "  [266 685]\n",
      "  [232 680]\n",
      "  [232 649]\n",
      "  [263 644]\n",
      "  [264 590]\n",
      "  [308 589]\n",
      "  [311 572]\n",
      "  [316 592]\n",
      "  [391 589]\n",
      "  [393 572]\n",
      "  [405 564]\n",
      "  [438 564]\n",
      "  [438 547]\n",
      "  [378 538]\n",
      "  [370 501]\n",
      "  [332 502]\n",
      "  [329 538]\n",
      "  [293 538]\n",
      "  [288 501]\n",
      "  [247 502]\n",
      "  [245 538]\n",
      "  [222 547]\n",
      "  [193 547]\n",
      "  [192 521]\n",
      "  [180 520]\n",
      "  [179 547]\n",
      "  [172 548]\n",
      "  [179 612]\n",
      "  [171 619]\n",
      "  [179 710]\n",
      "  [162 721]\n",
      "  [162 697]\n",
      "  [136 704]\n",
      "  [120 741]\n",
      "  [145 740]\n",
      "  [138 747]\n",
      "  [104 737]\n",
      "  [  0 747]\n",
      "  [451 748]]]\n",
      "(1, 5, 2)\n",
      "[[[ 67 545]\n",
      "  [ 67 510]\n",
      "  [  9 510]\n",
      "  [  9 545]\n",
      "  [ 67 545]]]\n",
      "(1, 5, 2)\n",
      "[[[  0 564]\n",
      "  [ 95 564]\n",
      "  [ 95 548]\n",
      "  [  0 547]\n",
      "  [  0 564]]]\n",
      "(1, 5, 2)\n",
      "[[[580 547]\n",
      "  [527 547]\n",
      "  [526 564]\n",
      "  [580 564]\n",
      "  [580 547]]]\n",
      "(1, 5, 2)\n",
      "[[[ 96 667]\n",
      "  [ 95 567]\n",
      "  [  1 568]\n",
      "  [  1 667]\n",
      "  [ 96 667]]]\n",
      "(1, 5, 2)\n",
      "[[[579 676]\n",
      "  [579 567]\n",
      "  [530 567]\n",
      "  [526 669]\n",
      "  [579 676]]]\n",
      "(1, 11, 2)\n",
      "[[[ 10 733]\n",
      "  [ 25 731]\n",
      "  [ 27 720]\n",
      "  [ 70 723]\n",
      "  [ 83 706]\n",
      "  [ 67 690]\n",
      "  [ 27 694]\n",
      "  [ 25 683]\n",
      "  [  7 681]\n",
      "  [  0 719]\n",
      "  [ 10 733]]]\n"
     ]
    }
   ],
   "source": [
    "height = env.map.shape[0]\n",
    "width = env.map.shape[1]\n",
    "\n",
    "#Initialize map as all freespace\n",
    "obstacle_map = np.ones((height, width)) #* indoorca.free_space\n",
    "\n",
    "\n",
    "\n",
    "# Iterate through each polygon\n",
    "for obs_pixel in env.obstacles_pixels:\n",
    "    # Convert the meter coordinates to pixels\n",
    "    np_obs_pixel = np.array([obs_pixel], dtype=np.int32)\n",
    "    print(np_obs_pixel.shape)\n",
    "    print(np_obs_pixel)\n",
    "    \n",
    "\n",
    "    # Fill the obstacle polygon with 0 (non-traversable)\n",
    "    cv2.fillPoly(obstacle_map, np_obs_pixel, 0)#indoorca.obstacle_space)\n",
    "         "
   ]
  },
  {
   "cell_type": "code",
   "execution_count": 51,
   "metadata": {},
   "outputs": [],
   "source": [
    "def display_binary_map(binary_map):\n",
    "    plt.figure(figsize=(10, 10))\n",
    "    plt.imshow(binary_map*255, cmap='gray', origin='lower')\n",
    "    plt.xticks([])\n",
    "    plt.yticks([])\n",
    "    plt.show()"
   ]
  },
  {
   "cell_type": "code",
   "execution_count": 52,
   "metadata": {},
   "outputs": [
    {
     "data": {
      "image/png": "[encoded data removed]",
      "text/plain": [
       "<Figure size 720x720 with 1 Axes>"
      ]
     },
     "metadata": {},
     "output_type": "display_data"
    }
   ],
   "source": [
    "display_binary_map(obstacle_map)"
   ]
  },
  {
   "cell_type": "code",
   "execution_count": 53,
   "metadata": {},
   "outputs": [],
   "source": [
    "env.obstacle_map = obstacle_map"
   ]
  },
  {
   "cell_type": "code",
   "execution_count": 54,
   "metadata": {},
   "outputs": [
    {
     "data": {
      "image/png": "[encoded data removed]",
      "text/plain": [
       "<Figure size 432x288 with 1 Axes>"
      ]
     },
     "metadata": {
      "needs_background": "light"
     },
     "output_type": "display_data"
    }
   ],
   "source": [
    "env.display_map_with_polygons()"
   ]
  },
  {
   "cell_type": "code",
   "execution_count": 62,
   "metadata": {},
   "outputs": [],
   "source": [
    "env.compute_trav_map()\n"
   ]
  },
  {
   "cell_type": "code",
   "execution_count": 63,
   "metadata": {},
   "outputs": [
    {
     "data": {
      "image/png": "[encoded data removed]",
      "text/plain": [
       "<Figure size 720x720 with 1 Axes>"
      ]
     },
     "metadata": {},
     "output_type": "display_data"
    }
   ],
   "source": [
    "display_binary_map(env.trav_map)"
   ]
  },
  {
   "cell_type": "code",
   "execution_count": 136,
   "metadata": {},
   "outputs": [
    {
     "data": {
      "text/plain": [
       "1.0"
      ]
     },
     "execution_count": 136,
     "metadata": {},
     "output_type": "execute_result"
    }
   ],
   "source": [
    "env.obstacle_map.min()"
   ]
  },
  {
   "cell_type": "code",
   "execution_count": 137,
   "metadata": {},
   "outputs": [
    {
     "data": {
      "text/plain": [
       "array([[1., 1., 1., ..., 1., 1., 1.],\n",
       "       [1., 1., 1., ..., 1., 1., 1.],\n",
       "       [1., 1., 1., ..., 1., 1., 1.],\n",
       "       ...,\n",
       "       [1., 1., 1., ..., 1., 1., 1.],\n",
       "       [1., 1., 1., ..., 1., 1., 1.],\n",
       "       [1., 1., 1., ..., 1., 1., 1.]])"
      ]
     },
     "execution_count": 137,
     "metadata": {},
     "output_type": "execute_result"
    }
   ],
   "source": [
    "env.obstacle_map"
   ]
  },
  {
   "attachments": {},
   "cell_type": "markdown",
   "metadata": {},
   "source": [
    "Map logic\n",
    "\n",
    "0. Compute the single biggest connected component with Environment? probably add this to map processing\n",
    "1. Get obstacle polygons\n",
    "   1. pad with 0s to catch corners, \n",
    "   2. check the flipping\n",
    "   3. Remove 0 padding or 0s in corners\n",
    "2. Use obstacle polygons to make new map\n",
    "   1. Maybe add exterior walls as obstacles?\n",
    "3. Use new map to compute traversability map and graph\n",
    "4. Load obstacles into ORCA\n",
    "5. Use traversability map for visualization"
   ]
  },
  {
   "cell_type": "code",
   "execution_count": 106,
   "metadata": {},
   "outputs": [],
   "source": [
    "def display_binary_map(binary_map):\n",
    "    plt.figure(figsize=(10, 10))\n",
    "    plt.imshow(binary_map*255, cmap='gray', origin='lower')\n",
    "    plt.xticks([])\n",
    "    plt.yticks([])\n",
    "    plt.show()"
   ]
  },
  {
   "cell_type": "code",
   "execution_count": null,
   "metadata": {},
   "outputs": [],
   "source": []
  },
  {
   "cell_type": "markdown",
   "metadata": {},
   "source": []
  },
  {
   "cell_type": "code",
   "execution_count": null,
   "metadata": {},
   "outputs": [],
   "source": [
    "from matplotlib.patches import Polygon as mplPolygon\n",
    "\n",
    "\n",
    "def display_map_with_polygons(binary_image, polygons, polygon_color='red'):\n",
    "    fig, ax = plt.subplots()\n",
    "\n",
    "    # Display the binary map\n",
    "    ax.imshow(binary_image, cmap='gray', extent=(-1, 1, -1, 1), origin='lower')\n",
    "\n",
    "    # Plot the polygons\n",
    "    for polygon in polygons:\n",
    "        coords = list(polygon.exterior.coords)\n",
    "        coords_tuples = [(x, y) for x, y in coords]\n",
    "\n",
    "        # Ensure the coordinates have at least 3 points to form a valid polygon\n",
    "        if len(coords_tuples) < 3:\n",
    "            continue\n",
    "\n",
    "        mpl_polygon = mplPolygon(coords_tuples, edgecolor=polygon_color, facecolor='none', linewidth=2)\n",
    "        ax.add_patch(mpl_polygon)\n",
    "\n",
    "    ax.set_xlim(-1, 1)\n",
    "    ax.set_ylim(-1, 1)\n",
    "    ax.set_aspect('equal', 'box')\n",
    "    plt.show()"
   ]
  }
 ],
 "metadata": {
  "kernelspec": {
   "display_name": "indoorca",
   "language": "python",
   "name": "python3"
  },
  "language_info": {
   "codemirror_mode": {
    "name": "ipython",
    "version": 3
   },
   "file_extension": ".py",
   "mimetype": "text/x-python",
   "name": "python",
   "nbconvert_exporter": "python",
   "pygments_lexer": "ipython3",
   "version": "3.6.15"
  },
  "orig_nbformat": 4
 },
 "nbformat": 4,
 "nbformat_minor": 2
}
