{
 "cells": [
  {
   "cell_type": "code",
   "execution_count": 17,
   "metadata": {},
   "outputs": [],
   "source": [
    "import logging\n",
    "import typing\n",
    "\n",
    "from os import getcwd, listdir\n",
    "from PIL import Image\n",
    "import numpy as np\n",
    "import matplotlib.pyplot as plt\n",
    "\n",
    "from indoorca.simulator.core import IndoorORCASim, IndoorOrcaSimConfig\n",
    "from indoorca.environment.core import Environment\n",
    "from indoorca.processing.core import MapProcessor"
   ]
  },
  {
   "cell_type": "code",
   "execution_count": 2,
   "metadata": {},
   "outputs": [],
   "source": [
    "%load_ext autoreload\n",
    "%autoreload 2"
   ]
  },
  {
   "cell_type": "code",
   "execution_count": 21,
   "metadata": {},
   "outputs": [],
   "source": [
    "sim = IndoorORCASim(IndoorOrcaSimConfig())\n",
    "pix_per_meter = 100"
   ]
  },
  {
   "cell_type": "code",
   "execution_count": 4,
   "metadata": {},
   "outputs": [],
   "source": [
    "\n",
    "#Get maps from data/maps\n",
    "maps = []\n",
    "map_path = getcwd() + '/../data/maps/'\n",
    "for map_name in listdir(map_path):\n",
    "    im = Image.open(map_path + map_name)\n",
    "    maps.append(np.asarray(im))"
   ]
  },
  {
   "cell_type": "code",
   "execution_count": 5,
   "metadata": {},
   "outputs": [],
   "source": [
    "test = maps[-1]"
   ]
  },
  {
   "cell_type": "code",
   "execution_count": 6,
   "metadata": {},
   "outputs": [
    {
     "data": {
      "text/plain": [
       "(1000, 1000)"
      ]
     },
     "execution_count": 6,
     "metadata": {},
     "output_type": "execute_result"
    }
   ],
   "source": [
    "test.shape"
   ]
  },
  {
   "cell_type": "code",
   "execution_count": 7,
   "metadata": {},
   "outputs": [],
   "source": [
    "env = Environment('test', test)"
   ]
  },
  {
   "cell_type": "code",
   "execution_count": 8,
   "metadata": {},
   "outputs": [
    {
     "data": {
      "text/plain": [
       "(749, 581)"
      ]
     },
     "execution_count": 8,
     "metadata": {},
     "output_type": "execute_result"
    }
   ],
   "source": [
    "env.map.shape"
   ]
  },
  {
   "cell_type": "code",
   "execution_count": 10,
   "metadata": {},
   "outputs": [
    {
     "data": {
      "text/plain": [
       "<networkx.classes.graph.Graph at 0x7ff4a54e8ac8>"
      ]
     },
     "execution_count": 10,
     "metadata": {},
     "output_type": "execute_result"
    }
   ],
   "source": [
    "#Show the graph of the map\n",
    "env.build_graph()\n"
   ]
  },
  {
   "cell_type": "code",
   "execution_count": 33,
   "metadata": {},
   "outputs": [],
   "source": [
    "mp = MapProcessor(env.map)"
   ]
  },
  {
   "cell_type": "code",
   "execution_count": 34,
   "metadata": {},
   "outputs": [],
   "source": [
    "obs = mp.get_obstacles(pix_per_meter)"
   ]
  },
  {
   "cell_type": "code",
   "execution_count": 35,
   "metadata": {},
   "outputs": [
    {
     "data": {
      "text/plain": [
       "12"
      ]
     },
     "execution_count": 35,
     "metadata": {},
     "output_type": "execute_result"
    }
   ],
   "source": [
    "len(obs[0])"
   ]
  },
  {
   "cell_type": "code",
   "execution_count": 36,
   "metadata": {},
   "outputs": [
    {
     "data": {
      "image/png": "[encoded data removed]",
      "text/plain": [
       "<Figure size 432x288 with 1 Axes>"
      ]
     },
     "metadata": {
      "needs_background": "light"
     },
     "output_type": "display_data"
    }
   ],
   "source": [
    "mp.display_map_with_polygons()"
   ]
  },
  {
   "attachments": {},
   "cell_type": "markdown",
   "metadata": {},
   "source": [
    "Map logic\n",
    "\n",
    "0. Compute the single biggest connected component with Environment? probably add this to map processing\n",
    "1. Get obstacle polygons\n",
    "   1. pad with 0s to catch corners, check the flipping\n",
    "   2. Remove 0 padding\n",
    "2. Use obstacle polygons to make new map\n",
    "   1. Maybe add exterior walls as obstacles?\n",
    "3. Use new map to compute traversability map and graph\n",
    "4. Load obstacles into ORCA\n",
    "5. Use traversability map for visualization"
   ]
  },
  {
   "cell_type": "code",
   "execution_count": null,
   "metadata": {},
   "outputs": [],
   "source": [
    "def display_binary_map(binary_map):\n",
    "    plt.figure(figsize=(10, 10))\n",
    "    plt.imshow(binary_map, cmap='gray', origin='lower')\n",
    "    plt.xticks([])\n",
    "    plt.yticks([])\n",
    "    plt.show()"
   ]
  },
  {
   "cell_type": "markdown",
   "metadata": {},
   "source": []
  },
  {
   "cell_type": "code",
   "execution_count": null,
   "metadata": {},
   "outputs": [],
   "source": [
    "from matplotlib.patches import Polygon as mplPolygon\n",
    "\n",
    "\n",
    "def display_map_with_polygons(binary_image, polygons, polygon_color='red'):\n",
    "    fig, ax = plt.subplots()\n",
    "\n",
    "    # Display the binary map\n",
    "    ax.imshow(binary_image, cmap='gray', extent=(-1, 1, -1, 1), origin='lower')\n",
    "\n",
    "    # Plot the polygons\n",
    "    for polygon in polygons:\n",
    "        coords = list(polygon.exterior.coords)\n",
    "        coords_tuples = [(x, y) for x, y in coords]\n",
    "\n",
    "        # Ensure the coordinates have at least 3 points to form a valid polygon\n",
    "        if len(coords_tuples) < 3:\n",
    "            continue\n",
    "\n",
    "        mpl_polygon = mplPolygon(coords_tuples, edgecolor=polygon_color, facecolor='none', linewidth=2)\n",
    "        ax.add_patch(mpl_polygon)\n",
    "\n",
    "    ax.set_xlim(-1, 1)\n",
    "    ax.set_ylim(-1, 1)\n",
    "    ax.set_aspect('equal', 'box')\n",
    "    plt.show()"
   ]
  }
 ],
 "metadata": {
  "kernelspec": {
   "display_name": "indoorca",
   "language": "python",
   "name": "python3"
  },
  "language_info": {
   "codemirror_mode": {
    "name": "ipython",
    "version": 3
   },
   "file_extension": ".py",
   "mimetype": "text/x-python",
   "name": "python",
   "nbconvert_exporter": "python",
   "pygments_lexer": "ipython3",
   "version": "3.6.15"
  },
  "orig_nbformat": 4
 },
 "nbformat": 4,
 "nbformat_minor": 2
}
